{
 "cells": [
  {
   "cell_type": "code",
   "execution_count": 8,
   "metadata": {},
   "outputs": [],
   "source": [
    "# Import necessary libraries and modules\n",
    "from langchain.chains.router import MultiPromptChain\n",
    "from langchain.chains import ConversationChain\n",
    "from langchain.memory import ConversationBufferMemory\n",
    "from langchain.prompts import PromptTemplate,FewShotChatMessagePromptTemplate\n",
    "from langchain.chains.router.llm_router import LLMRouterChain, RouterOutputParser\n",
    "from langchain.chains.router.multi_prompt_prompt import MULTI_PROMPT_ROUTER_TEMPLATE\n",
    "\n",
    "from langchain.chat_models import ChatOpenAI\n",
    "from langchain.prompts.chat import (\n",
    "    ChatPromptTemplate,\n",
    "    SystemMessagePromptTemplate,\n",
    "    HumanMessagePromptTemplate,   \n",
    ")"
   ]
  },
  {
   "cell_type": "code",
   "execution_count": 9,
   "metadata": {},
   "outputs": [],
   "source": [
    "# Define the system prompt for questions about the GenAI Summer Camp.\n",
    "# This prompt sets the context for the assistant, informing it about its role and the camp's details.\n",
    "# We also set up example interactions to guide the assistant in handling the question process. The same is done for the application process.\n",
    "system_question_template = \"You are a helpful assistant for parents interested in a GenAI Summer Camp for their kids.\\nHandle questions from parents and provide answers based on the information found in the text below.\\n\\nText: Welcome to GenAI Summer Camp, where imagination meets innovation! Our camp is designed to provide a unique and immersive experience for young minds, nurturing their creativity and fostering their interest in cutting-edge technologies. With a wide range of offerings, we aim to inspire the next generation of innovators, thinkers, and problem solvers. At GenAI Summer Camp, we believe in the power of imagination, collaboration, and lifelong learning.\\n\\nOfferings:\\n1. Robotics and Artificial Intelligence: Campers will have the opportunity to explore the fascinating world of robotics and artificial intelligence through hands-on projects and interactive workshops. They will learn to design, build, and program their own robots, while also gaining insights into the principles of AI and machine learning.\\n\\n2. Virtual Reality and Augmented Reality: Campers will dive into the realm of virtual and augmented reality, discovering how these technologies are transforming various industries. They will create their own virtual worlds, learn about 3D modeling and animation, and even develop their own AR applications.\\n\\n3. Coding and Game Development: In this program, campers will learn the fundamentals of coding and game development. They will be introduced to programming languages such as Python and Java, and will have the chance to create their own video games, learning about game design, mechanics, and storytelling along the way.\\n\\n4. Cybersecurity and Ethical Hacking: Campers will explore the world of cybersecurity, learning how to protect themselves and their digital presence. They will gain insights into the methods and techniques used by ethical hackers, and will have the opportunity to test their skills in simulated environments.\\n\\n5. Space Exploration and Astronomy: In this program, campers will embark on a journey through the cosmos. They will learn about the wonders of the universe, study celestial bodies, and even design their own space missions. With the help of advanced telescopes and astronomical software, they will explore distant galaxies and unlock the mysteries of the cosmos.\\n\\nValues:\\nAt GenAI Summer Camp, we are committed to fostering a safe, inclusive, and supportive environment for all campers. We believe in the power of diversity and encourage campers from all backgrounds to join us. Our values include:\\n\\n1. Creativity: We encourage campers to think outside the box, explore new ideas, and unleash their creativity in all aspects of their camp experience.\\n\\n2. Collaboration: We believe that teamwork and collaboration are essential skills for success. Campers will have the opportunity to work together on projects, fostering a sense of community and cooperation.\\n\\n3. Lifelong Learning: We strive to instill a love for learning in our campers, encouraging them to be curious, ask questions, and seek knowledge even beyond their time at camp.\\n\\n4. Ethical Use of Technology: We emphasize the importance of using technology responsibly and ethically. Campers will learn about the potential impacts of technology on society and how to make ethical decisions in their own projects.\\n\\nPolicies:\\n1. Safety: The safety and well-being of our campers is our top priority. We have trained staff members who will ensure a safe environment at all times. All activities and equipment are designed with safety in mind.\\n\\n2. Inclusion: We welcome campers of all backgrounds, regardless of race, gender, religion, or ability. We strive to create an inclusive and diverse community where everyone feels valued and respected.\\n\\n3. Code of Conduct: We have a strict code of conduct that all campers and staff members must adhere to. This code promotes respect, kindness, and responsibility. Any behavior that violates this code will be addressed promptly and may result in disciplinary action.\\n\\nLocation:\\nGenAI Summer Camp is located in the picturesque countryside, surrounded by lush greenery and beautiful landscapes. The campsite is equipped with state-of-the-art facilities, including dedicated labs, classrooms, and recreational areas. The serene and natural setting provides the perfect backdrop for campers to immerse themselves in their chosen programs.\\n\\nDates:\\nGenAI Summer Camp offers multiple sessions throughout the summer. Each session lasts for two weeks, allowing campers to fully engage with their chosen program. The camp will run from June to August, with sessions starting on the first and fifteenth of each month.\\n\\nPricing:\\nThe cost of attending GenAI Summer Camp varies depending on the chosen program and session. The base price for a two-week session is $1500, which includes all materials, meals, and accommodation. Financial aid and scholarships are available for eligible campers, ensuring that cost is not a barrier to participation.\\n\\nAge Range:\\nGenAI Summer Camp is open to campers aged 12 to 17. We believe that this age range is ideal for introducing young minds to the world of technology, sparking their interest, and providing them with a solid foundation for future endeavors.\\n\\nJoin us at GenAI Summer Camp, where the future is waiting to be explored! With our diverse offerings, values, policies, beautiful location, flexible dates, affordable pricing, and age-appropriate programs, we are committed to providing an unforgettable experience that will inspire campers to reach new heights of innovation and creativity. Enroll today and embark on a journey that will shape the future!\"\n",
    "question_examples = [\n",
    "    {\"input\": \"When is the camp?\", \"output\": \"Ah I so am glad you asked! The camp runs from June to August, with sessions starting on the first and fifteenth of each month\"},\n",
    "    {\"input\": \"What are the camp policies?\", \"output\": \"You sound like the strict parent...just kidding. The policies are:\\n\\n1. Safety: The safety and well-being of our campers is our top priority. We have trained staff members who will ensure a safe environment at all times. All activities and equipment are designed with safety in mind.\\n\\n2. Inclusion: We welcome campers of all backgrounds, regardless of race, gender, religion, or ability. We strive to create an inclusive and diverse community where everyone feels valued and respected.\\n\\n3. Code of Conduct: We have a strict code of conduct that all campers and staff members must adhere to. This code promotes respect, kindness, and responsibility. Any behavior that violates this code will be addressed promptly and may result in disciplinary action.\"},\n",
    "]\n",
    "question_example_prompt = ChatPromptTemplate.from_messages(\n",
    "    [\n",
    "        (\"human\", \"{input}\"),\n",
    "        (\"ai\", \"{output}\"),\n",
    "    ]\n",
    ")\n",
    "human_question_template = \"{input}\"\n",
    "\n",
    "system_question_prompt = SystemMessagePromptTemplate.from_template(system_question_template,input_variables=[\"chat_history\"])\n",
    "few_shot_question_prompt = FewShotChatMessagePromptTemplate(example_prompt=question_example_prompt, examples=question_examples)\n",
    "human_question_prompt = HumanMessagePromptTemplate.from_template(human_question_template,input_variables=[\"input\"])\n",
    "\n",
    "\n",
    "system_application_template = \"You are a helpful assistant for parents interested in a GenAI Summer Camp for their kids.\\nHandle the kid's application to the camp, including collecting parent's full name, phone number, email, and kid's age (with validation based on the camp's age range found in the text below).\\n\\nText: Welcome to GenAI Summer Camp, where imagination meets innovation! Our camp is designed to provide a unique and immersive experience for young minds, nurturing their creativity and fostering their interest in cutting-edge technologies. With a wide range of offerings, we aim to inspire the next generation of innovators, thinkers, and problem solvers. At GenAI Summer Camp, we believe in the power of imagination, collaboration, and lifelong learning.\\n\\nOfferings:\\n1. Robotics and Artificial Intelligence: Campers will have the opportunity to explore the fascinating world of robotics and artificial intelligence through hands-on projects and interactive workshops. They will learn to design, build, and program their own robots, while also gaining insights into the principles of AI and machine learning.\\n\\n2. Virtual Reality and Augmented Reality: Campers will dive into the realm of virtual and augmented reality, discovering how these technologies are transforming various industries. They will create their own virtual worlds, learn about 3D modeling and animation, and even develop their own AR applications.\\n\\n3. Coding and Game Development: In this program, campers will learn the fundamentals of coding and game development. They will be introduced to programming languages such as Python and Java, and will have the chance to create their own video games, learning about game design, mechanics, and storytelling along the way.\\n\\n4. Cybersecurity and Ethical Hacking: Campers will explore the world of cybersecurity, learning how to protect themselves and their digital presence. They will gain insights into the methods and techniques used by ethical hackers, and will have the opportunity to test their skills in simulated environments.\\n\\n5. Space Exploration and Astronomy: In this program, campers will embark on a journey through the cosmos. They will learn about the wonders of the universe, study celestial bodies, and even design their own space missions. With the help of advanced telescopes and astronomical software, they will explore distant galaxies and unlock the mysteries of the cosmos.\\n\\nValues:\\nAt GenAI Summer Camp, we are committed to fostering a safe, inclusive, and supportive environment for all campers. We believe in the power of diversity and encourage campers from all backgrounds to join us. Our values include:\\n\\n1. Creativity: We encourage campers to think outside the box, explore new ideas, and unleash their creativity in all aspects of their camp experience.\\n\\n2. Collaboration: We believe that teamwork and collaboration are essential skills for success. Campers will have the opportunity to work together on projects, fostering a sense of community and cooperation.\\n\\n3. Lifelong Learning: We strive to instill a love for learning in our campers, encouraging them to be curious, ask questions, and seek knowledge even beyond their time at camp.\\n\\n4. Ethical Use of Technology: We emphasize the importance of using technology responsibly and ethically. Campers will learn about the potential impacts of technology on society and how to make ethical decisions in their own projects.\\n\\nPolicies:\\n1. Safety: The safety and well-being of our campers is our top priority. We have trained staff members who will ensure a safe environment at all times. All activities and equipment are designed with safety in mind.\\n\\n2. Inclusion: We welcome campers of all backgrounds, regardless of race, gender, religion, or ability. We strive to create an inclusive and diverse community where everyone feels valued and respected.\\n\\n3. Code of Conduct: We have a strict code of conduct that all campers and staff members must adhere to. This code promotes respect, kindness, and responsibility. Any behavior that violates this code will be addressed promptly and may result in disciplinary action.\\n\\nLocation:\\nGenAI Summer Camp is located in the picturesque countryside, surrounded by lush greenery and beautiful landscapes. The campsite is equipped with state-of-the-art facilities, including dedicated labs, classrooms, and recreational areas. The serene and natural setting provides the perfect backdrop for campers to immerse themselves in their chosen programs.\\n\\nDates:\\nGenAI Summer Camp offers multiple sessions throughout the summer. Each session lasts for two weeks, allowing campers to fully engage with their chosen program. The camp will run from June to August, with sessions starting on the first and fifteenth of each month.\\n\\nPricing:\\nThe cost of attending GenAI Summer Camp varies depending on the chosen program and session. The base price for a two-week session is $1500, which includes all materials, meals, and accommodation. Financial aid and scholarships are available for eligible campers, ensuring that cost is not a barrier to participation.\\n\\nAge Range:\\nGenAI Summer Camp is open to campers aged 12 to 17. We believe that this age range is ideal for introducing young minds to the world of technology, sparking their interest, and providing them with a solid foundation for future endeavors.\\n\\nJoin us at GenAI Summer Camp, where the future is waiting to be explored! With our diverse offerings, values, policies, beautiful location, flexible dates, affordable pricing, and age-appropriate programs, we are committed to providing an unforgettable experience that will inspire campers to reach new heights of innovation and creativity. Enroll today and embark on a journey that will shape the future!\"\n",
    "application_examples = [\n",
    "    {\"input\": \"Can I sign my kid up?\", \"output\": \"You most definitely can if your child is aged between 12 to 17. (12 and 17 being inclusive of course)\"},\n",
    "    {\"input\": \"I want to sign my 14 year old up.\", \"output\": \"Awesome! I just need:\\n1. Parent's full name\\n2. Phone number\\n3. Email\\nNormally, I would also need your child's age to verify if he can attend the camp but you already gave that to me and all is good!\"},\n",
    "]\n",
    "application_example_prompt = ChatPromptTemplate.from_messages(\n",
    "    [\n",
    "        (\"human\", \"{input}\"),\n",
    "        (\"ai\", \"{output}\"),\n",
    "    ]\n",
    ")\n",
    "human_application_template = \"{input}\"\n",
    "\n",
    "system_application_prompt = SystemMessagePromptTemplate.from_template(system_application_template,input_variables=[\"chat_history\"])\n",
    "few_shot_application_prompt = FewShotChatMessagePromptTemplate(example_prompt=application_example_prompt, examples=application_examples)\n",
    "human_application_prompt = HumanMessagePromptTemplate.from_template(human_application_template,input_variables=[\"input\"])"
   ]
  },
  {
   "cell_type": "code",
   "execution_count": 10,
   "metadata": {},
   "outputs": [],
   "source": [
    "# Define prompt templates and information.\n",
    "# These templates are utilized for handling user queries about the camp and managing applications.\n",
    "# Each template is structured to achieve optimal performance with the assistant.\n",
    "prompt_infos = [\n",
    "    {\n",
    "        \"name\": \"question\",\n",
    "        \"description\": \"Good for answering questions about the camp\",\n",
    "        \"message_template\": [system_question_prompt, few_shot_question_prompt, human_question_prompt]\n",
    "    },\n",
    "    {\n",
    "        \"name\": \"application\",\n",
    "        \"description\": \"Good for handeling camp sign ups\",\n",
    "        \"message_template\":[system_application_prompt, few_shot_application_prompt, human_application_prompt]\n",
    "    },\n",
    "]"
   ]
  },
  {
   "cell_type": "code",
   "execution_count": 11,
   "metadata": {},
   "outputs": [],
   "source": [
    "llm = ChatOpenAI(openai_api_key=\"\",model_name=\"gpt-3.5-turbo\", temperature=0)"
   ]
  },
  {
   "cell_type": "code",
   "execution_count": 12,
   "metadata": {},
   "outputs": [],
   "source": [
    "from langchain import LLMChain\n",
    "memory=ConversationBufferMemory()\n",
    "\n",
    "destination_chains = {}\n",
    "for p_info in prompt_infos:\n",
    "    name = p_info[\"name\"]\n",
    "    message_templates = p_info[\"message_template\"]\n",
    "    prompt = ChatPromptTemplate.from_messages(messages=message_templates)\n",
    "    chain = LLMChain(llm=llm, prompt=prompt,memory=memory)\n",
    "    destination_chains[name] = chain\n",
    "default_chain = ConversationChain(llm=llm, output_key=\"text\",memory=memory)"
   ]
  },
  {
   "cell_type": "code",
   "execution_count": 13,
   "metadata": {},
   "outputs": [],
   "source": [
    "destinations = [f\"{p['name']}: {p['description']}\" for p in prompt_infos]\n",
    "destinations_str = \"\\n\".join(destinations)\n",
    "router_template = MULTI_PROMPT_ROUTER_TEMPLATE.format(destinations=destinations_str)\n",
    "router_prompt = PromptTemplate(\n",
    "    template=router_template,\n",
    "    input_variables=[\"input\"],\n",
    "    output_parser=RouterOutputParser(),\n",
    ")\n",
    "router_chain = LLMRouterChain.from_llm(llm, router_prompt)"
   ]
  },
  {
   "cell_type": "code",
   "execution_count": 14,
   "metadata": {},
   "outputs": [],
   "source": [
    "memory2=ConversationBufferMemory(output_key='history')\n",
    "chain = MultiPromptChain(\n",
    "    \n",
    "    router_chain=router_chain,\n",
    "    destination_chains=destination_chains,\n",
    "    default_chain=default_chain,\n",
    "    verbose=True,\n",
    "    memory=memory2\n",
    ")"
   ]
  },
  {
   "cell_type": "code",
   "execution_count": 15,
   "metadata": {},
   "outputs": [
    {
     "name": "stdout",
     "output_type": "stream",
     "text": [
      "Ask the assistant a question or request related to GenAI Summer Camp\n",
      "\n",
      "\n",
      "\u001b[1m> Entering new MultiPromptChain chain...\u001b[0m\n"
     ]
    },
    {
     "name": "stderr",
     "output_type": "stream",
     "text": [
      "/Library/Frameworks/Python.framework/Versions/3.9/lib/python3.9/site-packages/langchain/chains/llm.py:275: UserWarning: The predict_and_parse method is deprecated, instead pass an output parser directly to LLMChain.\n",
      "  warnings.warn(\n"
     ]
    },
    {
     "name": "stdout",
     "output_type": "stream",
     "text": [
      "None: {'input': 'hello'}\n",
      "\u001b[1m> Finished chain.\u001b[0m\n",
      "Hello! How can I assist you today?\n",
      "\n",
      "\n",
      "\u001b[1m> Entering new MultiPromptChain chain...\u001b[0m\n",
      "application: {'input': 'i want to sign my kid up'}\n",
      "\u001b[1m> Finished chain.\u001b[0m\n",
      "Great! To sign up your child for the GenAI Summer Camp, I will need the following information from you:\n",
      "\n",
      "1. Parent's full name:\n",
      "2. Phone number:\n",
      "3. Email:\n",
      "4. Kid's age (must be between 12 and 17):\n",
      "\n",
      "Please provide the above details so that I can proceed with the registration process.\n",
      "\n",
      "\n",
      "\u001b[1m> Entering new MultiPromptChain chain...\u001b[0m\n",
      "question: {'input': 'actually what are camp dates'}\n",
      "\u001b[1m> Finished chain.\u001b[0m\n",
      "Apologies for the confusion earlier. The camp offers multiple sessions throughout the summer, starting from June and running until August. Each session lasts for two weeks. The camp sessions begin on the first and fifteenth of each month.\n",
      "\n",
      "\n",
      "\u001b[1m> Entering new MultiPromptChain chain...\u001b[0m\n",
      "None: {'input': ''}\n",
      "\u001b[1m> Finished chain.\u001b[0m\n",
      "Is there anything else I can assist you with?\n"
     ]
    },
    {
     "ename": "KeyboardInterrupt",
     "evalue": "Interrupted by user",
     "output_type": "error",
     "traceback": [
      "\u001b[0;31m---------------------------------------------------------------------------\u001b[0m",
      "\u001b[0;31mKeyboardInterrupt\u001b[0m                         Traceback (most recent call last)",
      "\u001b[1;32m/Users/mikeygoldman/Desktop/GenAI_SummerCamp_Assistant/GenAI_Camp_Assistant_Builder (1).ipynb Cell 8\u001b[0m line \u001b[0;36m<cell line: 3>\u001b[0;34m()\u001b[0m\n\u001b[1;32m      <a href='vscode-notebook-cell:/Users/mikeygoldman/Desktop/GenAI_SummerCamp_Assistant/GenAI_Camp_Assistant_Builder%20%281%29.ipynb#X11sZmlsZQ%3D%3D?line=0'>1</a>\u001b[0m \u001b[39mprint\u001b[39m(\u001b[39m\"\u001b[39m\u001b[39mAsk the assistant a question or request related to GenAI Summer Camp\u001b[39m\u001b[39m\"\u001b[39m)\n\u001b[1;32m      <a href='vscode-notebook-cell:/Users/mikeygoldman/Desktop/GenAI_SummerCamp_Assistant/GenAI_Camp_Assistant_Builder%20%281%29.ipynb#X11sZmlsZQ%3D%3D?line=1'>2</a>\u001b[0m \u001b[39mwhile\u001b[39;00m \u001b[39mTrue\u001b[39;00m:\n\u001b[0;32m----> <a href='vscode-notebook-cell:/Users/mikeygoldman/Desktop/GenAI_SummerCamp_Assistant/GenAI_Camp_Assistant_Builder%20%281%29.ipynb#X11sZmlsZQ%3D%3D?line=2'>3</a>\u001b[0m     user_input\u001b[39m=\u001b[39m\u001b[39minput\u001b[39;49m()\n\u001b[1;32m      <a href='vscode-notebook-cell:/Users/mikeygoldman/Desktop/GenAI_SummerCamp_Assistant/GenAI_Camp_Assistant_Builder%20%281%29.ipynb#X11sZmlsZQ%3D%3D?line=3'>4</a>\u001b[0m     assistant_response \u001b[39m=\u001b[39m chain\u001b[39m.\u001b[39mrun(\u001b[39minput\u001b[39m\u001b[39m=\u001b[39muser_input)\n\u001b[1;32m      <a href='vscode-notebook-cell:/Users/mikeygoldman/Desktop/GenAI_SummerCamp_Assistant/GenAI_Camp_Assistant_Builder%20%281%29.ipynb#X11sZmlsZQ%3D%3D?line=4'>5</a>\u001b[0m     \u001b[39mprint\u001b[39m(assistant_response)\n",
      "File \u001b[0;32m/Library/Frameworks/Python.framework/Versions/3.9/lib/python3.9/site-packages/ipykernel/kernelbase.py:1075\u001b[0m, in \u001b[0;36mKernel.raw_input\u001b[0;34m(self, prompt)\u001b[0m\n\u001b[1;32m   1071\u001b[0m \u001b[39mif\u001b[39;00m \u001b[39mnot\u001b[39;00m \u001b[39mself\u001b[39m\u001b[39m.\u001b[39m_allow_stdin:\n\u001b[1;32m   1072\u001b[0m     \u001b[39mraise\u001b[39;00m StdinNotImplementedError(\n\u001b[1;32m   1073\u001b[0m         \u001b[39m\"\u001b[39m\u001b[39mraw_input was called, but this frontend does not support input requests.\u001b[39m\u001b[39m\"\u001b[39m\n\u001b[1;32m   1074\u001b[0m     )\n\u001b[0;32m-> 1075\u001b[0m \u001b[39mreturn\u001b[39;00m \u001b[39mself\u001b[39;49m\u001b[39m.\u001b[39;49m_input_request(\n\u001b[1;32m   1076\u001b[0m     \u001b[39mstr\u001b[39;49m(prompt),\n\u001b[1;32m   1077\u001b[0m     \u001b[39mself\u001b[39;49m\u001b[39m.\u001b[39;49m_parent_ident[\u001b[39m\"\u001b[39;49m\u001b[39mshell\u001b[39;49m\u001b[39m\"\u001b[39;49m],\n\u001b[1;32m   1078\u001b[0m     \u001b[39mself\u001b[39;49m\u001b[39m.\u001b[39;49mget_parent(\u001b[39m\"\u001b[39;49m\u001b[39mshell\u001b[39;49m\u001b[39m\"\u001b[39;49m),\n\u001b[1;32m   1079\u001b[0m     password\u001b[39m=\u001b[39;49m\u001b[39mFalse\u001b[39;49;00m,\n\u001b[1;32m   1080\u001b[0m )\n",
      "File \u001b[0;32m/Library/Frameworks/Python.framework/Versions/3.9/lib/python3.9/site-packages/ipykernel/kernelbase.py:1120\u001b[0m, in \u001b[0;36mKernel._input_request\u001b[0;34m(self, prompt, ident, parent, password)\u001b[0m\n\u001b[1;32m   1117\u001b[0m             \u001b[39mbreak\u001b[39;00m\n\u001b[1;32m   1118\u001b[0m \u001b[39mexcept\u001b[39;00m \u001b[39mKeyboardInterrupt\u001b[39;00m:\n\u001b[1;32m   1119\u001b[0m     \u001b[39m# re-raise KeyboardInterrupt, to truncate traceback\u001b[39;00m\n\u001b[0;32m-> 1120\u001b[0m     \u001b[39mraise\u001b[39;00m \u001b[39mKeyboardInterrupt\u001b[39;00m(\u001b[39m\"\u001b[39m\u001b[39mInterrupted by user\u001b[39m\u001b[39m\"\u001b[39m) \u001b[39mfrom\u001b[39;00m \u001b[39mNone\u001b[39m\n\u001b[1;32m   1121\u001b[0m \u001b[39mexcept\u001b[39;00m \u001b[39mException\u001b[39;00m:\n\u001b[1;32m   1122\u001b[0m     \u001b[39mself\u001b[39m\u001b[39m.\u001b[39mlog\u001b[39m.\u001b[39mwarning(\u001b[39m\"\u001b[39m\u001b[39mInvalid Message:\u001b[39m\u001b[39m\"\u001b[39m, exc_info\u001b[39m=\u001b[39m\u001b[39mTrue\u001b[39;00m)\n",
      "\u001b[0;31mKeyboardInterrupt\u001b[0m: Interrupted by user"
     ]
    }
   ],
   "source": [
    "print(\"Ask the assistant a question or request related to GenAI Summer Camp\")\n",
    "while True:\n",
    "    user_input=input()\n",
    "    assistant_response = chain.run(input=user_input)\n",
    "    print(assistant_response)"
   ]
  }
 ],
 "metadata": {
  "kernelspec": {
   "display_name": "Python 3",
   "language": "python",
   "name": "python3"
  },
  "language_info": {
   "codemirror_mode": {
    "name": "ipython",
    "version": 3
   },
   "file_extension": ".py",
   "mimetype": "text/x-python",
   "name": "python",
   "nbconvert_exporter": "python",
   "pygments_lexer": "ipython3",
   "version": "3.9.7"
  }
 },
 "nbformat": 4,
 "nbformat_minor": 2
}
